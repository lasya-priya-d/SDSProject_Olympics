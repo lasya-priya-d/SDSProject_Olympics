{
 "cells": [
  {
   "cell_type": "markdown",
   "metadata": {},
   "source": [
    "# This is a historical dataset on the modern Olympic games. It includes all the games from Athens 1896 to Rio 2016. It consists of 271116 rows and 15 columns."
   ]
  },
  {
   "cell_type": "markdown",
   "metadata": {},
   "source": [
    "To begin with, import pandas library to read the csv file."
   ]
  },
  {
   "cell_type": "code",
   "execution_count": 3,
   "metadata": {},
   "outputs": [
    {
     "data": {
      "text/html": [
       "<div>\n",
       "<style scoped>\n",
       "    .dataframe tbody tr th:only-of-type {\n",
       "        vertical-align: middle;\n",
       "    }\n",
       "\n",
       "    .dataframe tbody tr th {\n",
       "        vertical-align: top;\n",
       "    }\n",
       "\n",
       "    .dataframe thead th {\n",
       "        text-align: right;\n",
       "    }\n",
       "</style>\n",
       "<table border=\"1\" class=\"dataframe\">\n",
       "  <thead>\n",
       "    <tr style=\"text-align: right;\">\n",
       "      <th></th>\n",
       "      <th>ID</th>\n",
       "      <th>Name</th>\n",
       "      <th>Sex</th>\n",
       "      <th>Age</th>\n",
       "      <th>Height</th>\n",
       "      <th>Weight</th>\n",
       "      <th>Team</th>\n",
       "      <th>NOC</th>\n",
       "      <th>Games</th>\n",
       "      <th>Year</th>\n",
       "      <th>Season</th>\n",
       "      <th>City</th>\n",
       "      <th>Sport</th>\n",
       "      <th>Event</th>\n",
       "      <th>Medal</th>\n",
       "    </tr>\n",
       "  </thead>\n",
       "  <tbody>\n",
       "    <tr>\n",
       "      <th>0</th>\n",
       "      <td>1</td>\n",
       "      <td>A Dijiang</td>\n",
       "      <td>M</td>\n",
       "      <td>24.0</td>\n",
       "      <td>180.0</td>\n",
       "      <td>80.0</td>\n",
       "      <td>China</td>\n",
       "      <td>CHN</td>\n",
       "      <td>1992 Summer</td>\n",
       "      <td>1992</td>\n",
       "      <td>Summer</td>\n",
       "      <td>Barcelona</td>\n",
       "      <td>Basketball</td>\n",
       "      <td>Basketball Men's Basketball</td>\n",
       "      <td>NaN</td>\n",
       "    </tr>\n",
       "    <tr>\n",
       "      <th>1</th>\n",
       "      <td>2</td>\n",
       "      <td>A Lamusi</td>\n",
       "      <td>M</td>\n",
       "      <td>23.0</td>\n",
       "      <td>170.0</td>\n",
       "      <td>60.0</td>\n",
       "      <td>China</td>\n",
       "      <td>CHN</td>\n",
       "      <td>2012 Summer</td>\n",
       "      <td>2012</td>\n",
       "      <td>Summer</td>\n",
       "      <td>London</td>\n",
       "      <td>Judo</td>\n",
       "      <td>Judo Men's Extra-Lightweight</td>\n",
       "      <td>NaN</td>\n",
       "    </tr>\n",
       "    <tr>\n",
       "      <th>2</th>\n",
       "      <td>3</td>\n",
       "      <td>Gunnar Nielsen Aaby</td>\n",
       "      <td>M</td>\n",
       "      <td>24.0</td>\n",
       "      <td>NaN</td>\n",
       "      <td>NaN</td>\n",
       "      <td>Denmark</td>\n",
       "      <td>DEN</td>\n",
       "      <td>1920 Summer</td>\n",
       "      <td>1920</td>\n",
       "      <td>Summer</td>\n",
       "      <td>Antwerpen</td>\n",
       "      <td>Football</td>\n",
       "      <td>Football Men's Football</td>\n",
       "      <td>NaN</td>\n",
       "    </tr>\n",
       "    <tr>\n",
       "      <th>3</th>\n",
       "      <td>4</td>\n",
       "      <td>Edgar Lindenau Aabye</td>\n",
       "      <td>M</td>\n",
       "      <td>34.0</td>\n",
       "      <td>NaN</td>\n",
       "      <td>NaN</td>\n",
       "      <td>Denmark/Sweden</td>\n",
       "      <td>DEN</td>\n",
       "      <td>1900 Summer</td>\n",
       "      <td>1900</td>\n",
       "      <td>Summer</td>\n",
       "      <td>Paris</td>\n",
       "      <td>Tug-Of-War</td>\n",
       "      <td>Tug-Of-War Men's Tug-Of-War</td>\n",
       "      <td>Gold</td>\n",
       "    </tr>\n",
       "    <tr>\n",
       "      <th>4</th>\n",
       "      <td>5</td>\n",
       "      <td>Christine Jacoba Aaftink</td>\n",
       "      <td>F</td>\n",
       "      <td>21.0</td>\n",
       "      <td>185.0</td>\n",
       "      <td>82.0</td>\n",
       "      <td>Netherlands</td>\n",
       "      <td>NED</td>\n",
       "      <td>1988 Winter</td>\n",
       "      <td>1988</td>\n",
       "      <td>Winter</td>\n",
       "      <td>Calgary</td>\n",
       "      <td>Speed Skating</td>\n",
       "      <td>Speed Skating Women's 500 metres</td>\n",
       "      <td>NaN</td>\n",
       "    </tr>\n",
       "    <tr>\n",
       "      <th>5</th>\n",
       "      <td>5</td>\n",
       "      <td>Christine Jacoba Aaftink</td>\n",
       "      <td>F</td>\n",
       "      <td>21.0</td>\n",
       "      <td>185.0</td>\n",
       "      <td>82.0</td>\n",
       "      <td>Netherlands</td>\n",
       "      <td>NED</td>\n",
       "      <td>1988 Winter</td>\n",
       "      <td>1988</td>\n",
       "      <td>Winter</td>\n",
       "      <td>Calgary</td>\n",
       "      <td>Speed Skating</td>\n",
       "      <td>Speed Skating Women's 1,000 metres</td>\n",
       "      <td>NaN</td>\n",
       "    </tr>\n",
       "    <tr>\n",
       "      <th>6</th>\n",
       "      <td>5</td>\n",
       "      <td>Christine Jacoba Aaftink</td>\n",
       "      <td>F</td>\n",
       "      <td>25.0</td>\n",
       "      <td>185.0</td>\n",
       "      <td>82.0</td>\n",
       "      <td>Netherlands</td>\n",
       "      <td>NED</td>\n",
       "      <td>1992 Winter</td>\n",
       "      <td>1992</td>\n",
       "      <td>Winter</td>\n",
       "      <td>Albertville</td>\n",
       "      <td>Speed Skating</td>\n",
       "      <td>Speed Skating Women's 500 metres</td>\n",
       "      <td>NaN</td>\n",
       "    </tr>\n",
       "    <tr>\n",
       "      <th>7</th>\n",
       "      <td>5</td>\n",
       "      <td>Christine Jacoba Aaftink</td>\n",
       "      <td>F</td>\n",
       "      <td>25.0</td>\n",
       "      <td>185.0</td>\n",
       "      <td>82.0</td>\n",
       "      <td>Netherlands</td>\n",
       "      <td>NED</td>\n",
       "      <td>1992 Winter</td>\n",
       "      <td>1992</td>\n",
       "      <td>Winter</td>\n",
       "      <td>Albertville</td>\n",
       "      <td>Speed Skating</td>\n",
       "      <td>Speed Skating Women's 1,000 metres</td>\n",
       "      <td>NaN</td>\n",
       "    </tr>\n",
       "    <tr>\n",
       "      <th>8</th>\n",
       "      <td>5</td>\n",
       "      <td>Christine Jacoba Aaftink</td>\n",
       "      <td>F</td>\n",
       "      <td>27.0</td>\n",
       "      <td>185.0</td>\n",
       "      <td>82.0</td>\n",
       "      <td>Netherlands</td>\n",
       "      <td>NED</td>\n",
       "      <td>1994 Winter</td>\n",
       "      <td>1994</td>\n",
       "      <td>Winter</td>\n",
       "      <td>Lillehammer</td>\n",
       "      <td>Speed Skating</td>\n",
       "      <td>Speed Skating Women's 500 metres</td>\n",
       "      <td>NaN</td>\n",
       "    </tr>\n",
       "    <tr>\n",
       "      <th>9</th>\n",
       "      <td>5</td>\n",
       "      <td>Christine Jacoba Aaftink</td>\n",
       "      <td>F</td>\n",
       "      <td>27.0</td>\n",
       "      <td>185.0</td>\n",
       "      <td>82.0</td>\n",
       "      <td>Netherlands</td>\n",
       "      <td>NED</td>\n",
       "      <td>1994 Winter</td>\n",
       "      <td>1994</td>\n",
       "      <td>Winter</td>\n",
       "      <td>Lillehammer</td>\n",
       "      <td>Speed Skating</td>\n",
       "      <td>Speed Skating Women's 1,000 metres</td>\n",
       "      <td>NaN</td>\n",
       "    </tr>\n",
       "  </tbody>\n",
       "</table>\n",
       "</div>"
      ],
      "text/plain": [
       "   ID                      Name Sex   Age  Height  Weight            Team  \\\n",
       "0   1                 A Dijiang   M  24.0   180.0    80.0           China   \n",
       "1   2                  A Lamusi   M  23.0   170.0    60.0           China   \n",
       "2   3       Gunnar Nielsen Aaby   M  24.0     NaN     NaN         Denmark   \n",
       "3   4      Edgar Lindenau Aabye   M  34.0     NaN     NaN  Denmark/Sweden   \n",
       "4   5  Christine Jacoba Aaftink   F  21.0   185.0    82.0     Netherlands   \n",
       "5   5  Christine Jacoba Aaftink   F  21.0   185.0    82.0     Netherlands   \n",
       "6   5  Christine Jacoba Aaftink   F  25.0   185.0    82.0     Netherlands   \n",
       "7   5  Christine Jacoba Aaftink   F  25.0   185.0    82.0     Netherlands   \n",
       "8   5  Christine Jacoba Aaftink   F  27.0   185.0    82.0     Netherlands   \n",
       "9   5  Christine Jacoba Aaftink   F  27.0   185.0    82.0     Netherlands   \n",
       "\n",
       "   NOC        Games  Year  Season         City          Sport  \\\n",
       "0  CHN  1992 Summer  1992  Summer    Barcelona     Basketball   \n",
       "1  CHN  2012 Summer  2012  Summer       London           Judo   \n",
       "2  DEN  1920 Summer  1920  Summer    Antwerpen       Football   \n",
       "3  DEN  1900 Summer  1900  Summer        Paris     Tug-Of-War   \n",
       "4  NED  1988 Winter  1988  Winter      Calgary  Speed Skating   \n",
       "5  NED  1988 Winter  1988  Winter      Calgary  Speed Skating   \n",
       "6  NED  1992 Winter  1992  Winter  Albertville  Speed Skating   \n",
       "7  NED  1992 Winter  1992  Winter  Albertville  Speed Skating   \n",
       "8  NED  1994 Winter  1994  Winter  Lillehammer  Speed Skating   \n",
       "9  NED  1994 Winter  1994  Winter  Lillehammer  Speed Skating   \n",
       "\n",
       "                                Event Medal  \n",
       "0         Basketball Men's Basketball   NaN  \n",
       "1        Judo Men's Extra-Lightweight   NaN  \n",
       "2             Football Men's Football   NaN  \n",
       "3         Tug-Of-War Men's Tug-Of-War  Gold  \n",
       "4    Speed Skating Women's 500 metres   NaN  \n",
       "5  Speed Skating Women's 1,000 metres   NaN  \n",
       "6    Speed Skating Women's 500 metres   NaN  \n",
       "7  Speed Skating Women's 1,000 metres   NaN  \n",
       "8    Speed Skating Women's 500 metres   NaN  \n",
       "9  Speed Skating Women's 1,000 metres   NaN  "
      ]
     },
     "execution_count": 3,
     "metadata": {},
     "output_type": "execute_result"
    }
   ],
   "source": [
    "import pandas as pd\n",
    "data=pd.read_csv(r\"C:\\Users\\Neha\\Desktop\\athlete_events.csv\")\n",
    "data[0:10]"
   ]
  },
  {
   "cell_type": "markdown",
   "metadata": {},
   "source": [
    "# Descripition of the dataset  \n",
    "       ID: stands for a unique number for each athelete.\n",
    "       Name: stands for the athelete's name.\n",
    "       Sex: M or F\n",
    "       Age: stands for the athelete's age in integer.\n",
    "       Height: stands for the athelete's height in cm unit.\n",
    "       Weight: stands for the athelete's weight in kg unit.\n",
    "       Team: stands for the athelete's nationality which he/she represent.\n",
    "       NOC: stands for National Olympic Committe which is a 3 letter code.\n",
    "       Game: stands for year and season which the athelete participated at.\n",
    "       Year: stands for the year of the event the athelete participated at.\n",
    "       Season: Winter or Summer\n",
    "       City: stands for the hoist city the event was conducted at.\n",
    "       Sport: stands for sport athelete participated at.\n",
    "       Event: stands for which category of event the atheltete particpated in the sport.\n",
    "       Medal: stands for the medal the athelete recieved if any."
   ]
  },
  {
   "cell_type": "markdown",
   "metadata": {},
   "source": [
    "# Data Cleaning\n",
    "Check for any missing data."
   ]
  },
  {
   "cell_type": "code",
   "execution_count": 4,
   "metadata": {},
   "outputs": [
    {
     "data": {
      "text/plain": [
       "True"
      ]
     },
     "execution_count": 4,
     "metadata": {},
     "output_type": "execute_result"
    }
   ],
   "source": [
    "any(data.isnull())"
   ]
  },
  {
   "cell_type": "code",
   "execution_count": 5,
   "metadata": {},
   "outputs": [
    {
     "data": {
      "text/plain": [
       "ID             0\n",
       "Name           0\n",
       "Sex            0\n",
       "Age         9474\n",
       "Height     60171\n",
       "Weight     62875\n",
       "Team           0\n",
       "NOC            0\n",
       "Games          0\n",
       "Year           0\n",
       "Season         0\n",
       "City           0\n",
       "Sport          0\n",
       "Event          0\n",
       "Medal     231333\n",
       "dtype: int64"
      ]
     },
     "execution_count": 5,
     "metadata": {},
     "output_type": "execute_result"
    }
   ],
   "source": [
    "data.isnull().sum()"
   ]
  },
  {
   "cell_type": "code",
   "execution_count": 6,
   "metadata": {},
   "outputs": [
    {
     "data": {
      "text/plain": [
       "False"
      ]
     },
     "execution_count": 6,
     "metadata": {},
     "output_type": "execute_result"
    }
   ],
   "source": [
    "any(data['ID'].isnull())"
   ]
  },
  {
   "cell_type": "code",
   "execution_count": 7,
   "metadata": {},
   "outputs": [
    {
     "data": {
      "text/plain": [
       "False"
      ]
     },
     "execution_count": 7,
     "metadata": {},
     "output_type": "execute_result"
    }
   ],
   "source": [
    "any(data['Name'].isnull())"
   ]
  },
  {
   "cell_type": "markdown",
   "metadata": {},
   "source": [
    "Column ID, Name and Sex similarily have got no missing values."
   ]
  },
  {
   "cell_type": "code",
   "execution_count": 8,
   "metadata": {},
   "outputs": [
    {
     "data": {
      "text/plain": [
       "True"
      ]
     },
     "execution_count": 8,
     "metadata": {},
     "output_type": "execute_result"
    }
   ],
   "source": [
    "any(data['Age'].isnull())"
   ]
  },
  {
   "cell_type": "code",
   "execution_count": 9,
   "metadata": {},
   "outputs": [
    {
     "data": {
      "text/plain": [
       "9474"
      ]
     },
     "execution_count": 9,
     "metadata": {},
     "output_type": "execute_result"
    }
   ],
   "source": [
    "data['Age'].isnull().sum()"
   ]
  },
  {
   "cell_type": "markdown",
   "metadata": {},
   "source": [
    "Column Age has got 9474 missing values. \n",
    "To deal with them, we shall replace the missing NaN values by the mode."
   ]
  },
  {
   "cell_type": "code",
   "execution_count": 10,
   "metadata": {},
   "outputs": [],
   "source": [
    "mean=data['Age'].mean()\n",
    "data['Age'].fillna(mean, inplace=True)"
   ]
  },
  {
   "cell_type": "code",
   "execution_count": 11,
   "metadata": {},
   "outputs": [
    {
     "data": {
      "text/plain": [
       "False"
      ]
     },
     "execution_count": 11,
     "metadata": {},
     "output_type": "execute_result"
    }
   ],
   "source": [
    "any(data['Age'].isnull())"
   ]
  },
  {
   "cell_type": "code",
   "execution_count": 12,
   "metadata": {},
   "outputs": [
    {
     "data": {
      "text/plain": [
       "0"
      ]
     },
     "execution_count": 12,
     "metadata": {},
     "output_type": "execute_result"
    }
   ],
   "source": [
    "data['Age'].isnull().sum()"
   ]
  },
  {
   "cell_type": "markdown",
   "metadata": {},
   "source": [
    "Column Age is replaced successfully, now similarily replace the NaN values from column Height and Weight with mean as its represents the entire dataset."
   ]
  },
  {
   "cell_type": "code",
   "execution_count": 13,
   "metadata": {},
   "outputs": [
    {
     "data": {
      "text/plain": [
       "False"
      ]
     },
     "execution_count": 13,
     "metadata": {},
     "output_type": "execute_result"
    }
   ],
   "source": [
    "mean=data['Height'].mean()\n",
    "data['Height'].fillna(mean,inplace=True)\n",
    "any(data['Height'].isnull())"
   ]
  },
  {
   "cell_type": "code",
   "execution_count": 14,
   "metadata": {},
   "outputs": [
    {
     "data": {
      "text/plain": [
       "False"
      ]
     },
     "execution_count": 14,
     "metadata": {},
     "output_type": "execute_result"
    }
   ],
   "source": [
    "mean=data['Weight'].mean()\n",
    "data['Weight'].fillna(mean,inplace=True)\n",
    "data['Weight']\n",
    "any(data['Weight'].isnull())"
   ]
  },
  {
   "cell_type": "markdown",
   "metadata": {},
   "source": [
    "Since we choose a dataset on the modern olympics and particularily want to deal with the atheletes who have bagged a medal. We shall drop all the NaN values from column medal."
   ]
  },
  {
   "cell_type": "code",
   "execution_count": 15,
   "metadata": {},
   "outputs": [],
   "source": [
    "data=data.dropna()"
   ]
  },
  {
   "cell_type": "code",
   "execution_count": 16,
   "metadata": {},
   "outputs": [
    {
     "data": {
      "text/plain": [
       "ID        0\n",
       "Name      0\n",
       "Sex       0\n",
       "Age       0\n",
       "Height    0\n",
       "Weight    0\n",
       "Team      0\n",
       "NOC       0\n",
       "Games     0\n",
       "Year      0\n",
       "Season    0\n",
       "City      0\n",
       "Sport     0\n",
       "Event     0\n",
       "Medal     0\n",
       "dtype: int64"
      ]
     },
     "execution_count": 16,
     "metadata": {},
     "output_type": "execute_result"
    }
   ],
   "source": [
    "data.isnull().sum()"
   ]
  },
  {
   "cell_type": "markdown",
   "metadata": {},
   "source": [
    "# Graphical Visualisation"
   ]
  },
  {
   "cell_type": "markdown",
   "metadata": {},
   "source": [
    "Trying to visualise the dataset using various techniques to draw conclusions"
   ]
  },
  {
   "cell_type": "code",
   "execution_count": 17,
   "metadata": {},
   "outputs": [],
   "source": [
    "import matplotlib.pyplot as plt\n",
    "import numpy as np"
   ]
  },
  {
   "cell_type": "markdown",
   "metadata": {},
   "source": [
    "# Box plots"
   ]
  },
  {
   "cell_type": "code",
   "execution_count": 18,
   "metadata": {
    "scrolled": true
   },
   "outputs": [
    {
     "data": {
      "text/plain": [
       "Text(0.5, 1.0, 'Box plot of weights')"
      ]
     },
     "execution_count": 18,
     "metadata": {},
     "output_type": "execute_result"
    },
    {
     "data": {
      "image/png": "[encoded data removed]",
      "text/plain": [
       "<Figure size 432x288 with 1 Axes>"
      ]
     },
     "metadata": {
      "needs_background": "light"
     },
     "output_type": "display_data"
    }
   ],
   "source": [
    "data.boxplot( column =['Weight'], grid = True)\n",
    "plt.title(\"Box plot of weights\")"
   ]
  },
  {
   "cell_type": "code",
   "execution_count": 19,
   "metadata": {},
   "outputs": [
    {
     "name": "stdout",
     "output_type": "stream",
     "text": [
      "Highest weight: 182\n",
      "Lowest weight: 28\n",
      "Mean weight: 72.88402081291004\n"
     ]
    }
   ],
   "source": [
    "weights = []\n",
    "for i in data.index:\n",
    "    weights.append(int(data[\"Weight\"][i]))\n",
    "print(\"Highest weight:\",max(weights))\n",
    "print(\"Lowest weight:\",min(weights))\n",
    "print(\"Mean weight:\",(sum(weights))/(len(weights)))"
   ]
  },
  {
   "cell_type": "code",
   "execution_count": 20,
   "metadata": {},
   "outputs": [
    {
     "data": {
      "text/plain": [
       "Text(0.5, 1.0, 'Box plot of heights')"
      ]
     },
     "execution_count": 20,
     "metadata": {},
     "output_type": "execute_result"
    },
    {
     "data": {
      "image/png": "[encoded data removed]",
      "text/plain": [
       "<Figure size 432x288 with 1 Axes>"
      ]
     },
     "metadata": {
      "needs_background": "light"
     },
     "output_type": "display_data"
    }
   ],
   "source": [
    "data.boxplot( column =['Height'], grid = True)\n",
    "plt.title(\"Box plot of heights\")"
   ]
  },
  {
   "cell_type": "code",
   "execution_count": 21,
   "metadata": {},
   "outputs": [
    {
     "name": "stdout",
     "output_type": "stream",
     "text": [
      "Highest height: 223\n",
      "Lowest height: 136\n",
      "Mean height: 176.99492245431466\n"
     ]
    }
   ],
   "source": [
    "heights = []\n",
    "for i in data.index:\n",
    "    heights.append(int(data[\"Height\"][i]))\n",
    "print(\"Highest height:\",max(heights))\n",
    "print(\"Lowest height:\",min(heights))\n",
    "print(\"Mean height:\",(sum(heights))/(len(heights)))"
   ]
  },
  {
   "cell_type": "markdown",
   "metadata": {},
   "source": [
    "# Proportions of medals in top 3 countries - Pie Chart"
   ]
  },
  {
   "cell_type": "markdown",
   "metadata": {},
   "source": [
    "To find the top 10 countries with the highest aggregate of medals"
   ]
  },
  {
   "cell_type": "code",
   "execution_count": 22,
   "metadata": {},
   "outputs": [
    {
     "data": {
      "text/plain": [
       "United States    5219\n",
       "Soviet Union     2451\n",
       "Germany          1984\n",
       "Great Britain    1673\n",
       "France           1550\n",
       "Italy            1527\n",
       "Sweden           1434\n",
       "Australia        1306\n",
       "Canada           1243\n",
       "Hungary          1127\n",
       "Name: Team, dtype: int64"
      ]
     },
     "execution_count": 22,
     "metadata": {},
     "output_type": "execute_result"
    }
   ],
   "source": [
    "data['Team'].value_counts().head(10)"
   ]
  },
  {
   "cell_type": "code",
   "execution_count": 23,
   "metadata": {},
   "outputs": [
    {
     "name": "stdout",
     "output_type": "stream",
     "text": [
      "Total medals of top 3 countries\n"
     ]
    },
    {
     "data": {
      "text/plain": [
       "United States    5219\n",
       "Soviet Union     2451\n",
       "Germany          1984\n",
       "Name: Team, dtype: int64"
      ]
     },
     "execution_count": 23,
     "metadata": {},
     "output_type": "execute_result"
    }
   ],
   "source": [
    "print(\"Total medals of top 3 countries\")\n",
    "data['Team'].value_counts().head(3)"
   ]
  },
  {
   "cell_type": "code",
   "execution_count": 24,
   "metadata": {},
   "outputs": [
    {
     "name": "stdout",
     "output_type": "stream",
     "text": [
      "UNITED STATES\n",
      "Number of Gold, Silver and Bronze medals: [2474, 1512, 1233]\n"
     ]
    },
    {
     "data": {
      "text/plain": [
       "Text(0.5, 1.0, 'Medals proportion of the United States')"
      ]
     },
     "execution_count": 24,
     "metadata": {},
     "output_type": "execute_result"
    },
    {
     "data": {
      "image/png": "[encoded data removed]",
      "text/plain": [
       "<Figure size 432x288 with 1 Axes>"
      ]
     },
     "metadata": {},
     "output_type": "display_data"
    }
   ],
   "source": [
    "medals = [0,0,0]\n",
    "print(\"UNITED STATES\")\n",
    "for i in data.index:\n",
    "    if data['Team'][i] == \"United States\":\n",
    "        if data['Medal'][i] == \"Gold\":\n",
    "            medals[0] = medals[0]+1\n",
    "        elif data['Medal'][i] == \"Silver\":\n",
    "            medals[1] = medals[1]+1\n",
    "        elif data['Medal'][i] == \"Bronze\":\n",
    "            medals[2] = medals[2]+1\n",
    "print (\"Number of Gold, Silver and Bronze medals:\",medals)\n",
    "\n",
    "medals = np.array(medals)\n",
    "label = [\"Gold\", \"Silver\", \"Bronze\"]\n",
    "myexplode = [0.1, 0.1, 0.1]\n",
    "plt.pie(medals, explode = myexplode, labels = label, shadow = True, autopct='%1.1f%%')\n",
    "plt.legend(title = \"Medals\", loc = 5)\n",
    "plt.title(\"Medals proportion of the United States\")"
   ]
  },
  {
   "cell_type": "code",
   "execution_count": 25,
   "metadata": {},
   "outputs": [
    {
     "name": "stdout",
     "output_type": "stream",
     "text": [
      "SOVIET UNION\n",
      "Number of Gold, Silver and Bronze medals: [1058, 716, 677]\n"
     ]
    },
    {
     "data": {
      "text/plain": [
       "Text(0.5, 1.0, 'Medals proportion of the Soviet Union')"
      ]
     },
     "execution_count": 25,
     "metadata": {},
     "output_type": "execute_result"
    },
    {
     "data": {
      "image/png": "[encoded data removed]",
      "text/plain": [
       "<Figure size 432x288 with 1 Axes>"
      ]
     },
     "metadata": {},
     "output_type": "display_data"
    }
   ],
   "source": [
    "medals = [0,0,0]\n",
    "print(\"SOVIET UNION\")\n",
    "for i in data.index:\n",
    "    if data['Team'][i] == \"Soviet Union\":\n",
    "        if data['Medal'][i] == \"Gold\":\n",
    "            medals[0] = medals[0]+1\n",
    "        elif data['Medal'][i] == \"Silver\":\n",
    "            medals[1] = medals[1]+1\n",
    "        elif data['Medal'][i] == \"Bronze\":\n",
    "            medals[2] = medals[2]+1\n",
    "print (\"Number of Gold, Silver and Bronze medals:\",medals)\n",
    "\n",
    "medals = np.array(medals)\n",
    "label = [\"Gold\", \"Silver\", \"Bronze\"]\n",
    "myexplode = [0.1, 0.1, 0.1]\n",
    "plt.pie(medals, explode = myexplode, labels = label, shadow = True, autopct='%1.1f%%')\n",
    "plt.legend(title = \"Medals\", loc = 5)\n",
    "plt.title(\"Medals proportion of the Soviet Union\")"
   ]
  },
  {
   "cell_type": "code",
   "execution_count": 26,
   "metadata": {},
   "outputs": [
    {
     "name": "stdout",
     "output_type": "stream",
     "text": [
      "GERMANY\n",
      "Number of Gold, Silver and Bronze medals: [679, 627, 678]\n"
     ]
    },
    {
     "data": {
      "text/plain": [
       "Text(0.5, 1.0, 'Medals proportion of the Germany')"
      ]
     },
     "execution_count": 26,
     "metadata": {},
     "output_type": "execute_result"
    },
    {
     "data": {
      "image/png": "[encoded data removed]",
      "text/plain": [
       "<Figure size 432x288 with 1 Axes>"
      ]
     },
     "metadata": {},
     "output_type": "display_data"
    }
   ],
   "source": [
    "medals = [0,0,0]\n",
    "print(\"GERMANY\")\n",
    "for i in data.index:\n",
    "    if data['Team'][i] == \"Germany\":\n",
    "        if data['Medal'][i] == \"Gold\":\n",
    "            medals[0] = medals[0]+1\n",
    "        elif data['Medal'][i] == \"Silver\":\n",
    "            medals[1] = medals[1]+1\n",
    "        elif data['Medal'][i] == \"Bronze\":\n",
    "            medals[2] = medals[2]+1\n",
    "print (\"Number of Gold, Silver and Bronze medals:\",medals)\n",
    "\n",
    "medals = np.array(medals)\n",
    "label = [\"Gold\", \"Silver\", \"Bronze\"]\n",
    "myexplode = [0.1, 0.1, 0.1]\n",
    "plt.pie(medals, explode = myexplode, labels = label,  shadow = True, autopct='%1.1f%%')\n",
    "plt.legend(title = \"Medals\", loc = 5)\n",
    "plt.title(\"Medals proportion of the Germany\")"
   ]
  },
  {
   "cell_type": "markdown",
   "metadata": {},
   "source": [
    "# Male-Female winners ratio in top 10 countries - stacked bar graph"
   ]
  },
  {
   "cell_type": "code",
   "execution_count": 27,
   "metadata": {},
   "outputs": [
    {
     "data": {
      "text/plain": [
       "United States    5219\n",
       "Soviet Union     2451\n",
       "Germany          1984\n",
       "Great Britain    1673\n",
       "France           1550\n",
       "Italy            1527\n",
       "Sweden           1434\n",
       "Australia        1306\n",
       "Canada           1243\n",
       "Hungary          1127\n",
       "Name: Team, dtype: int64"
      ]
     },
     "execution_count": 27,
     "metadata": {},
     "output_type": "execute_result"
    }
   ],
   "source": [
    "data['Team'].value_counts().head(10)"
   ]
  },
  {
   "cell_type": "code",
   "execution_count": 28,
   "metadata": {},
   "outputs": [
    {
     "data": {
      "image/png": "[encoded data removed]",
      "text/plain": [
       "<Figure size 432x288 with 1 Axes>"
      ]
     },
     "metadata": {
      "needs_background": "light"
     },
     "output_type": "display_data"
    }
   ],
   "source": [
    "N = 10\n",
    "men = [0,0,0,0,0,0,0,0,0,0]\n",
    "women = [0,0,0,0,0,0,0,0,0,0]\n",
    "countries = ['United States','Soviet Union','Germany','Great Britain','France','Italy','Sweden','Australia','Canada','Hungary']\n",
    "for j in range(10):\n",
    "    for i in data.index:\n",
    "        if (data[\"Team\"][i]==countries[j]) and (data[\"Sex\"][i]==\"M\"):\n",
    "            men[j] = men[j]+1\n",
    "        elif (data[\"Team\"][i]==countries[j]) and (data[\"Sex\"][i]==\"F\"):\n",
    "            women[j] = women[j]+1\n",
    "\n",
    "ind = np.arange(10) # the x locations for the groups\n",
    "width = 0.5\n",
    "fig = plt.figure()\n",
    "ax = fig.add_axes([0,0,1,1])\n",
    "ax.bar(ind, men, width, color='r')\n",
    "ax.bar(ind, women, width,bottom=men, color='b')\n",
    "ax.set_ylabel('Number of medals')\n",
    "ax.set_xlabel('Countries')\n",
    "ax.set_title('Medals with gender proportions')\n",
    "plt.xticks(ind, ('United States','Soviet Union','Germany','Great Britain','France','Italy','Sweden','Australia','Canada','Hungary'),rotation = 90)\n",
    "ax.grid()\n",
    "ax.set_yticks(np.arange(0, 81, 10))\n",
    "ax.legend(labels=['Men', 'Women'])\n",
    "plt.show()\n",
    "\n"
   ]
  },
  {
   "cell_type": "markdown",
   "metadata": {},
   "source": [
    "# Number of medals won - Line graph"
   ]
  },
  {
   "cell_type": "markdown",
   "metadata": {},
   "source": [
    "To find the athlete with the highest aggregate of medals"
   ]
  },
  {
   "cell_type": "markdown",
   "metadata": {},
   "source": [
    "data['Name'].value_counts().head(10)"
   ]
  },
  {
   "cell_type": "code",
   "execution_count": 29,
   "metadata": {},
   "outputs": [
    {
     "name": "stdout",
     "output_type": "stream",
     "text": [
      "gold {1896: 0, 1900: 0, 1904: 0, 1908: 0, 1912: 0, 1916: 0, 1920: 0, 1924: 0, 1928: 0, 1932: 0, 1936: 0, 1940: 0, 1944: 0, 1948: 0, 1952: 0, 1956: 0, 1960: 0, 1964: 0, 1968: 0, 1972: 0, 1976: 0, 1980: 0, 1984: 0, 1988: 0, 1992: 0, 1996: 0, 2000: 0, 2004: 6, 2008: 8, 2012: 4, 2016: 5}\n",
      "silver {1896: 0, 1900: 0, 1904: 0, 1908: 0, 1912: 0, 1916: 0, 1920: 0, 1924: 0, 1928: 0, 1932: 0, 1936: 0, 1940: 0, 1944: 0, 1948: 0, 1952: 0, 1956: 0, 1960: 0, 1964: 0, 1968: 0, 1972: 0, 1976: 0, 1980: 0, 1984: 0, 1988: 0, 1992: 0, 1996: 0, 2000: 0, 2004: 0, 2008: 0, 2012: 2, 2016: 1}\n",
      "bronze {1896: 0, 1900: 0, 1904: 0, 1908: 0, 1912: 0, 1916: 0, 1920: 0, 1924: 0, 1928: 0, 1932: 0, 1936: 0, 1940: 0, 1944: 0, 1948: 0, 1952: 0, 1956: 0, 1960: 0, 1964: 0, 1968: 0, 1972: 0, 1976: 0, 1980: 0, 1984: 0, 1988: 0, 1992: 0, 1996: 0, 2000: 0, 2004: 2, 2008: 0, 2012: 0, 2016: 0}\n"
     ]
    }
   ],
   "source": [
    "gold = {}\n",
    "silver = {}\n",
    "bronze = {}\n",
    "for i in range(1896,2017,4):\n",
    "    gold[i]=0\n",
    "for i in range(1896,2017,4):\n",
    "    silver[i]=0\n",
    "for i in range(1896,2017,4):\n",
    "    bronze[i]=0\n",
    "for i in data.index:\n",
    "    if data['Name'][i] == \"Michael Fred Phelps, II\":\n",
    "        if data['Medal'][i] == \"Gold\":\n",
    "            gold[data['Year'][i]] +=1\n",
    "        elif data['Medal'][i] == \"Silver\":\n",
    "            silver[data['Year'][i]] +=1\n",
    "        elif data['Medal'][i] == \"Bronze\":\n",
    "            bronze[data['Year'][i]] +=1\n",
    "print(\"gold\", gold)\n",
    "print(\"silver\", silver)\n",
    "print(\"bronze\", bronze)"
   ]
  },
  {
   "cell_type": "code",
   "execution_count": 30,
   "metadata": {},
   "outputs": [
    {
     "name": "stdout",
     "output_type": "stream",
     "text": [
      "[1896, 1900, 1904, 1908, 1912, 1916, 1920, 1924, 1928, 1932, 1936, 1940, 1944, 1948, 1952, 1956, 1960, 1964, 1968, 1972, 1976, 1980, 1984, 1988, 1992, 1996, 2000, 2004, 2008, 2012, 2016]\n",
      "[0, 0, 0, 0, 0, 0, 0, 0, 0, 0, 0, 0, 0, 0, 0, 0, 0, 0, 0, 0, 0, 0, 0, 0, 0, 0, 0, 6, 8, 4, 5]\n",
      "[0, 0, 0, 0, 0, 0, 0, 0, 0, 0, 0, 0, 0, 0, 0, 0, 0, 0, 0, 0, 0, 0, 0, 0, 0, 0, 0, 0, 0, 2, 1]\n",
      "[0, 0, 0, 0, 0, 0, 0, 0, 0, 0, 0, 0, 0, 0, 0, 0, 0, 0, 0, 0, 0, 0, 0, 0, 0, 0, 0, 2, 0, 0, 0]\n"
     ]
    }
   ],
   "source": [
    "years = list(gold.keys())\n",
    "g = list(gold.values())\n",
    "s = list(silver.values())\n",
    "b = list(bronze.values())\n",
    "print(years)\n",
    "print(g)\n",
    "print (s)\n",
    "print(b)"
   ]
  },
  {
   "cell_type": "code",
   "execution_count": 31,
   "metadata": {},
   "outputs": [
    {
     "data": {
      "image/png": "[encoded data removed]",
      "text/plain": [
       "<Figure size 432x288 with 1 Axes>"
      ]
     },
     "metadata": {
      "needs_background": "light"
     },
     "output_type": "display_data"
    }
   ],
   "source": [
    "plt.plot(years,g, label='Gold', marker = 'o')\n",
    "plt.plot(years,s, label='Silver', marker = 'o')\n",
    "plt.plot(years,b, label='Bronze', marker = 'o')\n",
    "plt.grid()\n",
    "plt.title(\"Number of medals over the years\")\n",
    "plt.xlabel(\"Medals ->\")\n",
    "plt.ylabel(\"Years ->\")\n",
    "plt.legend()\n",
    "plt.show()"
   ]
  },
  {
   "cell_type": "markdown",
   "metadata": {},
   "source": [
    "# NORMALIZATION AND STANDARDISATION"
   ]
  },
  {
   "cell_type": "code",
   "execution_count": 32,
   "metadata": {},
   "outputs": [
    {
     "ename": "ModuleNotFoundError",
     "evalue": "No module named 'sklearn'",
     "output_type": "error",
     "traceback": [
      "\u001b[1;31m---------------------------------------------------------------------------\u001b[0m",
      "\u001b[1;31mModuleNotFoundError\u001b[0m                       Traceback (most recent call last)",
      "\u001b[1;32m<ipython-input-32-af8c81bdd3d2>\u001b[0m in \u001b[0;36m<module>\u001b[1;34m\u001b[0m\n\u001b[0;32m      2\u001b[0m \u001b[1;32mimport\u001b[0m \u001b[0mmatplotlib\u001b[0m\u001b[1;33m.\u001b[0m\u001b[0mpyplot\u001b[0m \u001b[1;32mas\u001b[0m \u001b[0mplt\u001b[0m\u001b[1;33m\u001b[0m\u001b[1;33m\u001b[0m\u001b[0m\n\u001b[0;32m      3\u001b[0m \u001b[1;32mimport\u001b[0m \u001b[0mseaborn\u001b[0m \u001b[1;32mas\u001b[0m \u001b[0msns\u001b[0m\u001b[1;33m\u001b[0m\u001b[1;33m\u001b[0m\u001b[0m\n\u001b[1;32m----> 4\u001b[1;33m \u001b[1;32mfrom\u001b[0m \u001b[0msklearn\u001b[0m \u001b[1;32mimport\u001b[0m \u001b[0mpreprocessing\u001b[0m\u001b[1;33m\u001b[0m\u001b[1;33m\u001b[0m\u001b[0m\n\u001b[0m\u001b[0;32m      5\u001b[0m \u001b[1;32mfrom\u001b[0m \u001b[0mscipy\u001b[0m\u001b[1;33m.\u001b[0m\u001b[0mstats\u001b[0m \u001b[1;32mimport\u001b[0m \u001b[0mnorm\u001b[0m\u001b[1;33m\u001b[0m\u001b[1;33m\u001b[0m\u001b[0m\n",
      "\u001b[1;31mModuleNotFoundError\u001b[0m: No module named 'sklearn'"
     ]
    }
   ],
   "source": [
    "import numpy as np \n",
    "import matplotlib.pyplot as plt\n",
    "import seaborn as sns\n",
    "from sklearn import preprocessing\n",
    "from scipy.stats import norm"
   ]
  },
  {
   "cell_type": "code",
   "execution_count": null,
   "metadata": {},
   "outputs": [],
   "source": [
    "df=data[data.Year>=1995]\n",
    "s=len(df)\n",
    "df.index=range(0,s,1)\n",
    "df.columns"
   ]
  },
  {
   "cell_type": "code",
   "execution_count": null,
   "metadata": {},
   "outputs": [],
   "source": [
    "data.describe()"
   ]
  },
  {
   "cell_type": "code",
   "execution_count": null,
   "metadata": {},
   "outputs": [],
   "source": [
    "data.info()"
   ]
  },
  {
   "cell_type": "code",
   "execution_count": null,
   "metadata": {},
   "outputs": [],
   "source": [
    "data.var(axis=0)"
   ]
  },
  {
   "cell_type": "code",
   "execution_count": null,
   "metadata": {},
   "outputs": [],
   "source": [
    "data.mean()"
   ]
  },
  {
   "cell_type": "code",
   "execution_count": null,
   "metadata": {},
   "outputs": [],
   "source": [
    "np.std(data)"
   ]
  },
  {
   "cell_type": "code",
   "execution_count": 33,
   "metadata": {},
   "outputs": [
    {
     "ename": "NameError",
     "evalue": "name 'df' is not defined",
     "output_type": "error",
     "traceback": [
      "\u001b[1;31m---------------------------------------------------------------------------\u001b[0m",
      "\u001b[1;31mNameError\u001b[0m                                 Traceback (most recent call last)",
      "\u001b[1;32m<ipython-input-33-76da303411ea>\u001b[0m in \u001b[0;36m<module>\u001b[1;34m\u001b[0m\n\u001b[1;32m----> 1\u001b[1;33m \u001b[0mx\u001b[0m \u001b[1;33m=\u001b[0m \u001b[0mdf\u001b[0m\u001b[1;33m[\u001b[0m\u001b[1;33m[\u001b[0m\u001b[1;34m'Age'\u001b[0m\u001b[1;33m,\u001b[0m\u001b[1;34m'Height'\u001b[0m\u001b[1;33m,\u001b[0m\u001b[1;34m'Weight'\u001b[0m\u001b[1;33m,\u001b[0m\u001b[1;34m'Year'\u001b[0m\u001b[1;33m]\u001b[0m\u001b[1;33m]\u001b[0m\u001b[1;33m.\u001b[0m\u001b[0mvalues\u001b[0m\u001b[1;33m.\u001b[0m\u001b[0mastype\u001b[0m\u001b[1;33m(\u001b[0m\u001b[0mfloat\u001b[0m\u001b[1;33m)\u001b[0m\u001b[1;33m\u001b[0m\u001b[1;33m\u001b[0m\u001b[0m\n\u001b[0m\u001b[0;32m      2\u001b[0m \u001b[0mmin_max_scaler\u001b[0m \u001b[1;33m=\u001b[0m \u001b[0mpreprocessing\u001b[0m\u001b[1;33m.\u001b[0m\u001b[0mMinMaxScaler\u001b[0m\u001b[1;33m(\u001b[0m\u001b[1;33m)\u001b[0m\u001b[1;33m\u001b[0m\u001b[1;33m\u001b[0m\u001b[0m\n\u001b[0;32m      3\u001b[0m \u001b[0mx_scaled\u001b[0m \u001b[1;33m=\u001b[0m \u001b[0mmin_max_scaler\u001b[0m\u001b[1;33m.\u001b[0m\u001b[0mfit_transform\u001b[0m\u001b[1;33m(\u001b[0m\u001b[0mx\u001b[0m\u001b[1;33m)\u001b[0m\u001b[1;33m\u001b[0m\u001b[1;33m\u001b[0m\u001b[0m\n\u001b[0;32m      4\u001b[0m \u001b[0mdf_normalized\u001b[0m \u001b[1;33m=\u001b[0m \u001b[0mpd\u001b[0m\u001b[1;33m.\u001b[0m\u001b[0mDataFrame\u001b[0m\u001b[1;33m(\u001b[0m\u001b[0mx_scaled\u001b[0m\u001b[1;33m)\u001b[0m\u001b[1;33m\u001b[0m\u001b[1;33m\u001b[0m\u001b[0m\n\u001b[0;32m      5\u001b[0m \u001b[0mdf_normalized\u001b[0m\u001b[1;33m.\u001b[0m\u001b[0mcolumns\u001b[0m \u001b[1;33m=\u001b[0m\u001b[1;33m[\u001b[0m\u001b[1;34m'Age'\u001b[0m\u001b[1;33m,\u001b[0m\u001b[1;34m'Height'\u001b[0m\u001b[1;33m,\u001b[0m\u001b[1;34m'Weight'\u001b[0m\u001b[1;33m,\u001b[0m\u001b[1;34m'Year'\u001b[0m\u001b[1;33m]\u001b[0m\u001b[1;33m\u001b[0m\u001b[1;33m\u001b[0m\u001b[0m\n",
      "\u001b[1;31mNameError\u001b[0m: name 'df' is not defined"
     ]
    }
   ],
   "source": [
    "x = df[['Age','Height','Weight','Year']].values.astype(float)\n",
    "min_max_scaler = preprocessing.MinMaxScaler()\n",
    "x_scaled = min_max_scaler.fit_transform(x)\n",
    "df_normalized = pd.DataFrame(x_scaled)\n",
    "df_normalized.columns =['Age','Height','Weight','Year']\n",
    "df_normalized[\"Name\"]=df.Name\n",
    "df_normalized[\"Event\"]=df.Event\n",
    "df_normalized[\"Sex\"]=df.Sex\n",
    "df_normalized[\"Team\"]=df.Team\n",
    "df_normalized[\"NOC\"]=df.NOC\n",
    "df_normalized[\"Games\"]=df.Games\n",
    "df_normalized[\"Season\"]=df.Season\n",
    "df_normalized[\"City\"]=df.City\n",
    "df_normalized[\"Sport\"]=df.Sport\n",
    "df_normalized[\"Medal\"]=df.Medal\n",
    "df_normalized = df_normalized[['Name','Sex','Age','Height','Weight','Team','NOC','Games','Year','Season','City','Sport','Event','Medal']]\n",
    "df_normalized"
   ]
  },
  {
   "cell_type": "code",
   "execution_count": 34,
   "metadata": {},
   "outputs": [
    {
     "ename": "NameError",
     "evalue": "name 'df_normalized' is not defined",
     "output_type": "error",
     "traceback": [
      "\u001b[1;31m---------------------------------------------------------------------------\u001b[0m",
      "\u001b[1;31mNameError\u001b[0m                                 Traceback (most recent call last)",
      "\u001b[1;32m<ipython-input-34-f8d04a96dd04>\u001b[0m in \u001b[0;36m<module>\u001b[1;34m\u001b[0m\n\u001b[1;32m----> 1\u001b[1;33m \u001b[0mdf_normalized\u001b[0m\u001b[1;33m.\u001b[0m\u001b[0mvar\u001b[0m\u001b[1;33m(\u001b[0m\u001b[1;33m)\u001b[0m\u001b[1;33m\u001b[0m\u001b[1;33m\u001b[0m\u001b[0m\n\u001b[0m",
      "\u001b[1;31mNameError\u001b[0m: name 'df_normalized' is not defined"
     ]
    }
   ],
   "source": [
    "df_normalized.var()"
   ]
  },
  {
   "cell_type": "code",
   "execution_count": 35,
   "metadata": {},
   "outputs": [
    {
     "ename": "NameError",
     "evalue": "name 'df_normalized' is not defined",
     "output_type": "error",
     "traceback": [
      "\u001b[1;31m---------------------------------------------------------------------------\u001b[0m",
      "\u001b[1;31mNameError\u001b[0m                                 Traceback (most recent call last)",
      "\u001b[1;32m<ipython-input-35-df8b0f9fee7d>\u001b[0m in \u001b[0;36m<module>\u001b[1;34m\u001b[0m\n\u001b[1;32m----> 1\u001b[1;33m \u001b[0mdf_normalized\u001b[0m\u001b[1;33m.\u001b[0m\u001b[0mmean\u001b[0m\u001b[1;33m(\u001b[0m\u001b[1;33m)\u001b[0m\u001b[1;33m\u001b[0m\u001b[1;33m\u001b[0m\u001b[0m\n\u001b[0m",
      "\u001b[1;31mNameError\u001b[0m: name 'df_normalized' is not defined"
     ]
    }
   ],
   "source": [
    "df_normalized.mean()"
   ]
  },
  {
   "cell_type": "code",
   "execution_count": 36,
   "metadata": {},
   "outputs": [
    {
     "ename": "NameError",
     "evalue": "name 'preprocessing' is not defined",
     "output_type": "error",
     "traceback": [
      "\u001b[1;31m---------------------------------------------------------------------------\u001b[0m",
      "\u001b[1;31mNameError\u001b[0m                                 Traceback (most recent call last)",
      "\u001b[1;32m<ipython-input-36-3ec15cbd136d>\u001b[0m in \u001b[0;36m<module>\u001b[1;34m\u001b[0m\n\u001b[1;32m----> 1\u001b[1;33m \u001b[0mscaler\u001b[0m \u001b[1;33m=\u001b[0m \u001b[0mpreprocessing\u001b[0m\u001b[1;33m.\u001b[0m\u001b[0mStandardScaler\u001b[0m\u001b[1;33m(\u001b[0m\u001b[1;33m)\u001b[0m  \u001b[1;31m# create the scaler object\u001b[0m\u001b[1;33m\u001b[0m\u001b[1;33m\u001b[0m\u001b[0m\n\u001b[0m\u001b[0;32m      2\u001b[0m \u001b[0mscaleddata\u001b[0m \u001b[1;33m=\u001b[0m \u001b[0mscaler\u001b[0m\u001b[1;33m.\u001b[0m\u001b[0mfit_transform\u001b[0m\u001b[1;33m(\u001b[0m\u001b[0mdf\u001b[0m\u001b[1;33m.\u001b[0m\u001b[0mselect_dtypes\u001b[0m\u001b[1;33m(\u001b[0m\u001b[0minclude\u001b[0m\u001b[1;33m=\u001b[0m\u001b[1;33m[\u001b[0m\u001b[1;34m'float'\u001b[0m\u001b[1;33m]\u001b[0m\u001b[1;33m)\u001b[0m\u001b[1;33m)\u001b[0m  \u001b[1;31m# fit data on scaler object\u001b[0m\u001b[1;33m\u001b[0m\u001b[1;33m\u001b[0m\u001b[0m\n\u001b[0;32m      3\u001b[0m \u001b[0mscaleddata\u001b[0m \u001b[1;33m=\u001b[0m \u001b[0mpd\u001b[0m\u001b[1;33m.\u001b[0m\u001b[0mDataFrame\u001b[0m\u001b[1;33m(\u001b[0m\u001b[0mscaleddata\u001b[0m\u001b[1;33m)\u001b[0m  \u001b[1;31m# standardizes the data\u001b[0m\u001b[1;33m\u001b[0m\u001b[1;33m\u001b[0m\u001b[0m\n\u001b[0;32m      4\u001b[0m \u001b[0mprint\u001b[0m\u001b[1;33m(\u001b[0m\u001b[0mscaleddata\u001b[0m\u001b[1;33m)\u001b[0m\u001b[1;33m\u001b[0m\u001b[1;33m\u001b[0m\u001b[0m\n",
      "\u001b[1;31mNameError\u001b[0m: name 'preprocessing' is not defined"
     ]
    }
   ],
   "source": [
    "scaler = preprocessing.StandardScaler()  # create the scaler object\n",
    "scaleddata = scaler.fit_transform(df.select_dtypes(include=['float']))  # fit data on scaler object\n",
    "scaleddata = pd.DataFrame(scaleddata)  # standardizes the data\n",
    "print(scaleddata)"
   ]
  },
  {
   "cell_type": "markdown",
   "metadata": {},
   "source": [
    "# HYPOTHESIS TESTING"
   ]
  },
  {
   "cell_type": "markdown",
   "metadata": {},
   "source": [
    "Let's say you know the mean and standard deviation of a population. How can you tell if a sample is from this population or some other population? Although we may never know with 100% certainty, we can look for statistically significant differences between the sample statistics and the population paramters. This is done by first stating what is refered to as a null hypothesis, which in this scenario would be that there is no difference between the sample mean and the population mean. Then we look for statistical evidence to accept or reject the null hypothesis."
   ]
  },
  {
   "cell_type": "code",
   "execution_count": 37,
   "metadata": {},
   "outputs": [],
   "source": [
    "def z_test(data, tail, null_hypothesis_mean):\n",
    "    from scipy.stats import norm\n",
    "    x_bar= data.mean()\n",
    "    sigma = data.std(ddof=0)\n",
    "    mu=null_hypothesis_mean\n",
    "    N = 40\n",
    "    SE = sigma/np.sqrt(N)\n",
    "    z_val = (x_bar - mu)/SE\n",
    "    p_val=norm.cdf(z_val)\n",
    "    print(z_val,p_val)\n",
    "    if tail ==0:\n",
    "        if p_val >= 0.05:\n",
    "            return True\n",
    "        else:\n",
    "            return False\n",
    "    elif tail == 1:\n",
    "        if (1-p_val) >= 0.05:\n",
    "            return True\n",
    "        else:\n",
    "            return False\n",
    "    elif tail == 2:\n",
    "        if (2*p_val) >= 0.05:\n",
    "            return True\n",
    "        else:\n",
    "            return False"
   ]
  },
  {
   "cell_type": "markdown",
   "metadata": {},
   "source": [
    "The athletes because of the training they do and being on their toes most of the time are fit and have less fat content in their body than an average human being. We wanted to see whether they are any different from an average human being because of the special training and diet they follow makes them leaner. "
   ]
  },
  {
   "cell_type": "markdown",
   "metadata": {},
   "source": [
    "Here \n",
    "H0: The mean weight of athletes is greater than or equal to average weight of human being(68kg) μ >= 68 ;\n",
    "H1: The mean weight of athletes is lesser  than average weight of human being(68kg) μ < 68\n",
    "\n",
    "Usually, statistical significance is associated with an alpha level of α = 0.05. We do a one-tailed test for 68kg."
   ]
  },
  {
   "cell_type": "code",
   "execution_count": 38,
   "metadata": {},
   "outputs": [
    {
     "name": "stdout",
     "output_type": "stream",
     "text": [
      "2.419830115090449 0.9922361202386878\n"
     ]
    },
    {
     "data": {
      "text/plain": [
       "False"
      ]
     },
     "execution_count": 38,
     "metadata": {},
     "output_type": "execute_result"
    }
   ],
   "source": [
    "z_test(data[\"Weight\"],1,68)"
   ]
  },
  {
   "cell_type": "markdown",
   "metadata": {},
   "source": [
    "Since we get false result, we fail to reject H0: \n",
    "The mean weight of athletes is greater than or equal to average weight of human being(68kg) μ >= 68 \n",
    "Thus special training and diet doesnt make them leaner but definitely keeps healthy and fit."
   ]
  },
  {
   "cell_type": "markdown",
   "metadata": {},
   "source": [
    "Here \n",
    "H0: The mean height of athletes is greater than or equal to average height of human being(170cm) μ >= 170 ;\n",
    "H1: The mean height of athletes is lesser than average height of human being(170cm) μ < 170\n",
    "\n",
    "Usually, statistical significance is associated with an alpha level of α = 0.05. We do a one-tailed test for 170cm."
   ]
  },
  {
   "cell_type": "code",
   "execution_count": 39,
   "metadata": {},
   "outputs": [
    {
     "name": "stdout",
     "output_type": "stream",
     "text": [
      "4.62311131507761 0.9999981098663565\n"
     ]
    },
    {
     "data": {
      "text/plain": [
       "False"
      ]
     },
     "execution_count": 39,
     "metadata": {},
     "output_type": "execute_result"
    }
   ],
   "source": [
    "z_test(data[\"Height\"],1,170)"
   ]
  },
  {
   "cell_type": "markdown",
   "metadata": {},
   "source": [
    "Since we get false result, we fail to reject H0: \n",
    "The mean height of athletes is greater than or equal to average height of human being(170cm) μ >= 170 "
   ]
  },
  {
   "cell_type": "markdown",
   "metadata": {},
   "source": [
    "Here \n",
    "H0: The mean age of athletes is greater than or equal to 27years: μ >= 27\n",
    "H1: The mean age of athletes is lesser than 27years: μ < 27\n",
    "\n",
    "Usually, statistical significance is associated with an alpha level of α = 0.05. We do a one-tailed test for the age 27"
   ]
  },
  {
   "cell_type": "code",
   "execution_count": 40,
   "metadata": {},
   "outputs": [
    {
     "name": "stdout",
     "output_type": "stream",
     "text": [
      "-1.1674458795276428 0.12151517613965507\n"
     ]
    },
    {
     "data": {
      "text/plain": [
       "True"
      ]
     },
     "execution_count": 40,
     "metadata": {},
     "output_type": "execute_result"
    }
   ],
   "source": [
    "z_test(data[\"Age\"],1,27)"
   ]
  },
  {
   "cell_type": "markdown",
   "metadata": {},
   "source": [
    "Since we get true result, we reject H0: \n",
    "The mean age of athletes is greater than or equal to 27years: μ >= 27"
   ]
  },
  {
   "cell_type": "code",
   "execution_count": 52,
   "metadata": {},
   "outputs": [
    {
     "data": {
      "text/plain": [
       "ID        69407.051806\n",
       "Age          25.918399\n",
       "Height      177.069144\n",
       "Weight       73.051330\n",
       "Year       1973.943845\n",
       "dtype: float64"
      ]
     },
     "execution_count": 52,
     "metadata": {},
     "output_type": "execute_result"
    }
   ],
   "source": [
    "x_bar= data.mean()\n",
    "x_bar"
   ]
  },
  {
   "cell_type": "code",
   "execution_count": 46,
   "metadata": {},
   "outputs": [
    {
     "data": {
      "text/plain": [
       "ID        38849.492460\n",
       "Age           5.859499\n",
       "Height        9.670802\n",
       "Weight       13.202338\n",
       "Year         33.822432\n",
       "dtype: float64"
      ]
     },
     "execution_count": 46,
     "metadata": {},
     "output_type": "execute_result"
    }
   ],
   "source": [
    "sigma = data.std(ddof=0)\n",
    "sigma"
   ]
  },
  {
   "cell_type": "markdown",
   "metadata": {},
   "source": [
    "# CORRELATION "
   ]
  },
  {
   "attachments": {},
   "cell_type": "markdown",
   "metadata": {},
   "source": [
    "Correlation is a statistical measure which determines co-relationship or association of two variables. It represents linear relationship between two variables."
   ]
  },
  {
   "cell_type": "code",
   "execution_count": 41,
   "metadata": {},
   "outputs": [
    {
     "name": "stdout",
     "output_type": "stream",
     "text": [
      "Pearsons correlation: 0.805\n"
     ]
    }
   ],
   "source": [
    "from scipy.stats import pearsonr \n",
    "\n",
    "# Convert dataframe into series \n",
    "list1 = df['Height'] \n",
    "list2 = df['Weight'] \n",
    "  \n",
    "# Apply the pearsonr() \n",
    "corr, _ = pearsonr(list1, list2) \n",
    "print('Pearsons correlation: %.3f' % corr)\n"
   ]
  },
  {
   "cell_type": "code",
   "execution_count": 42,
   "metadata": {},
   "outputs": [
    {
     "name": "stdout",
     "output_type": "stream",
     "text": [
      "Pearsons correlation: 0.175\n"
     ]
    }
   ],
   "source": [
    "\n",
    "# Convert dastaframe into series \n",
    "list1 = df['Age'] \n",
    "list2 = df['Weight'] \n",
    "  \n",
    "# Apply the pearsonr() \n",
    "corr, _ = pearsonr(list1, list2) \n",
    "print('Pearsons correlation: %.3f' % corr)"
   ]
  },
  {
   "cell_type": "code",
   "execution_count": 43,
   "metadata": {},
   "outputs": [
    {
     "data": {
      "text/html": [
       "<div>\n",
       "<style scoped>\n",
       "    .dataframe tbody tr th:only-of-type {\n",
       "        vertical-align: middle;\n",
       "    }\n",
       "\n",
       "    .dataframe tbody tr th {\n",
       "        vertical-align: top;\n",
       "    }\n",
       "\n",
       "    .dataframe thead th {\n",
       "        text-align: right;\n",
       "    }\n",
       "</style>\n",
       "<table border=\"1\" class=\"dataframe\">\n",
       "  <thead>\n",
       "    <tr style=\"text-align: right;\">\n",
       "      <th></th>\n",
       "      <th>ID</th>\n",
       "      <th>Age</th>\n",
       "      <th>Height</th>\n",
       "      <th>Weight</th>\n",
       "      <th>Year</th>\n",
       "    </tr>\n",
       "  </thead>\n",
       "  <tbody>\n",
       "    <tr>\n",
       "      <th>ID</th>\n",
       "      <td>1.000000</td>\n",
       "      <td>0.000099</td>\n",
       "      <td>-0.011929</td>\n",
       "      <td>-0.005445</td>\n",
       "      <td>0.032561</td>\n",
       "    </tr>\n",
       "    <tr>\n",
       "      <th>Age</th>\n",
       "      <td>0.000099</td>\n",
       "      <td>1.000000</td>\n",
       "      <td>0.056997</td>\n",
       "      <td>0.108108</td>\n",
       "      <td>-0.086881</td>\n",
       "    </tr>\n",
       "    <tr>\n",
       "      <th>Height</th>\n",
       "      <td>-0.011929</td>\n",
       "      <td>0.056997</td>\n",
       "      <td>1.000000</td>\n",
       "      <td>0.791071</td>\n",
       "      <td>0.092871</td>\n",
       "    </tr>\n",
       "    <tr>\n",
       "      <th>Weight</th>\n",
       "      <td>-0.005445</td>\n",
       "      <td>0.108108</td>\n",
       "      <td>0.791071</td>\n",
       "      <td>1.000000</td>\n",
       "      <td>0.074167</td>\n",
       "    </tr>\n",
       "    <tr>\n",
       "      <th>Year</th>\n",
       "      <td>0.032561</td>\n",
       "      <td>-0.086881</td>\n",
       "      <td>0.092871</td>\n",
       "      <td>0.074167</td>\n",
       "      <td>1.000000</td>\n",
       "    </tr>\n",
       "  </tbody>\n",
       "</table>\n",
       "</div>"
      ],
      "text/plain": [
       "              ID       Age    Height    Weight      Year\n",
       "ID      1.000000  0.000099 -0.011929 -0.005445  0.032561\n",
       "Age     0.000099  1.000000  0.056997  0.108108 -0.086881\n",
       "Height -0.011929  0.056997  1.000000  0.791071  0.092871\n",
       "Weight -0.005445  0.108108  0.791071  1.000000  0.074167\n",
       "Year    0.032561 -0.086881  0.092871  0.074167  1.000000"
      ]
     },
     "execution_count": 43,
     "metadata": {},
     "output_type": "execute_result"
    }
   ],
   "source": [
    "data.corr()"
   ]
  },
  {
   "cell_type": "code",
   "execution_count": 44,
   "metadata": {},
   "outputs": [
    {
     "data": {
      "text/plain": [
       "<AxesSubplot:>"
      ]
     },
     "execution_count": 44,
     "metadata": {},
     "output_type": "execute_result"
    },
    {
     "data": {
      "image/png": "[encoded data removed]",
      "text/plain": [
       "<Figure size 648x576 with 2 Axes>"
      ]
     },
     "metadata": {
      "needs_background": "light"
     },
     "output_type": "display_data"
    }
   ],
   "source": [
    "corrmat = data.corr() \n",
    "  \n",
    "f, ax = plt.subplots(figsize =(9, 8)) \n",
    "sns.heatmap(corrmat, ax = ax, cmap =\"YlGnBu\", linewidths = 0.1) \n"
   ]
  },
  {
   "cell_type": "code",
   "execution_count": 45,
   "metadata": {},
   "outputs": [
    {
     "data": {
      "text/plain": [
       "-0.08688056403639481"
      ]
     },
     "execution_count": 45,
     "metadata": {},
     "output_type": "execute_result"
    }
   ],
   "source": [
    "data['Year'].corr(data['Age'])"
   ]
  },
  {
   "cell_type": "code",
   "execution_count": 46,
   "metadata": {},
   "outputs": [
    {
     "data": {
      "text/plain": [
       "0.09287114252292569"
      ]
     },
     "execution_count": 46,
     "metadata": {},
     "output_type": "execute_result"
    }
   ],
   "source": [
    "data['Year'].corr(data['Height'])"
   ]
  },
  {
   "cell_type": "code",
   "execution_count": 47,
   "metadata": {},
   "outputs": [
    {
     "data": {
      "text/plain": [
       "<matplotlib.collections.PathCollection at 0x1e2f908e4c0>"
      ]
     },
     "execution_count": 47,
     "metadata": {},
     "output_type": "execute_result"
    },
    {
     "data": {
      "image/png": "[encoded data removed]",
      "text/plain": [
       "<Figure size 432x288 with 1 Axes>"
      ]
     },
     "metadata": {
      "needs_background": "light"
     },
     "output_type": "display_data"
    }
   ],
   "source": [
    "plt.scatter(data['Year'].corr(data['Age']),data['Height'].corr(data['Weight']))"
   ]
  },
  {
   "cell_type": "code",
   "execution_count": 57,
   "metadata": {},
   "outputs": [
    {
     "name": "stderr",
     "output_type": "stream",
     "text": [
      "<ipython-input-57-3fc9e5aa29b7>:6: UserWarning: FixedFormatter should only be used together with FixedLocator\n",
      "  ax.set_yticklabels(label)\n",
      "<ipython-input-57-3fc9e5aa29b7>:7: UserWarning: FixedFormatter should only be used together with FixedLocator\n",
      "  ax.set_xticklabels(label)\n"
     ]
    },
    {
     "data": {
      "text/plain": [
       "<matplotlib.image.AxesImage at 0x1e2fa9656a0>"
      ]
     },
     "execution_count": 57,
     "metadata": {},
     "output_type": "execute_result"
    },
    {
     "data": {
      "image/png": "[encoded data removed]",
      "text/plain": [
       "<Figure size 432x864 with 1 Axes>"
      ]
     },
     "metadata": {
      "needs_background": "light"
     },
     "output_type": "display_data"
    }
   ],
   "source": [
    "corrmat = data.corr() \n",
    "label=[i[:1] for i in corrmat.columns]\n",
    "\n",
    "fig=plt.figure(figsize=(6,12))\n",
    "ax=fig.add_subplot(111)\n",
    "ax.set_yticklabels(label)\n",
    "ax.set_xticklabels(label)\n",
    "ax.matshow(corrmat,cmap=plt.cm.RdYlGn)\n"
   ]
  },
  {
   "cell_type": "code",
   "execution_count": null,
   "metadata": {},
   "outputs": [],
   "source": []
  }
 ],
 "metadata": {
  "kernelspec": {
   "display_name": "Python 3",
   "language": "python",
   "name": "python3"
  },
  "language_info": {
   "codemirror_mode": {
    "name": "ipython",
    "version": 3
   },
   "file_extension": ".py",
   "mimetype": "text/x-python",
   "name": "python",
   "nbconvert_exporter": "python",
   "pygments_lexer": "ipython3",
   "version": "3.7.4"
  }
 },
 "nbformat": 4,
 "nbformat_minor": 4
}
